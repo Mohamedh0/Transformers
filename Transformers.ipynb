{
  "nbformat": 4,
  "nbformat_minor": 0,
  "metadata": {
    "colab": {
      "provenance": [],
      "gpuType": "T4",
      "authorship_tag": "ABX9TyOjx9CMfJJ0UulsgJaTsrdn",
      "include_colab_link": true
    },
    "kernelspec": {
      "name": "python3",
      "display_name": "Python 3"
    },
    "language_info": {
      "name": "python"
    },
    "accelerator": "GPU"
  },
  "cells": [
    {
      "cell_type": "markdown",
      "metadata": {
        "id": "view-in-github",
        "colab_type": "text"
      },
      "source": [
        "<a href=\"https://colab.research.google.com/github/Mohamedh0/Transformers-From-Scratch/blob/main/Transformers.ipynb\" target=\"_parent\"><img src=\"https://colab.research.google.com/assets/colab-badge.svg\" alt=\"Open In Colab\"/></a>"
      ]
    },
    {
      "cell_type": "code",
      "execution_count": 57,
      "metadata": {
        "id": "vUhqRbhEu3LB"
      },
      "outputs": [],
      "source": [
        "import torch\n",
        "import math\n",
        "import torch.nn as nn\n",
        "import torch.nn.functional as F"
      ]
    },
    {
      "cell_type": "code",
      "source": [
        "class InputEmbedding(nn.Module):\n",
        "    def __init__(self, vocab_size, d_model):\n",
        "        super().__init__()\n",
        "        self.vocab_size = vocab_size\n",
        "        self.d_model = d_model\n",
        "        self.embedding = nn.Embedding(vocab_size, d_model)\n",
        "\n",
        "    def forward(self, x):\n",
        "        return self.embedding(x) * math.sqrt(self.d_model)"
      ],
      "metadata": {
        "id": "dAD8hSm3v1zS"
      },
      "execution_count": 58,
      "outputs": []
    },
    {
      "cell_type": "code",
      "source": [
        "class PositionalEncoding(nn.Module):\n",
        "    def __init__(self, d_model, max_len):\n",
        "        super().__init__()\n",
        "        pe = torch.zeros(max_len, d_model)\n",
        "        position = torch.arange(0, max_len, dtype=torch.float).unsqueeze(1)\n",
        "        div_term = torch.exp(torch.arange(0, d_model, 2, dtype=torch.float) * -(math.log(10000.0) / d_model))\n",
        "        pe[:, 0::2] = torch.sin(position * div_term)\n",
        "        pe[:, 1::2] = torch.cos(position * div_term)\n",
        "        self.register_buffer('pe', pe.unsqueeze(0))\n",
        "\n",
        "    def forward(self, x):\n",
        "        return x + self.pe[:, :x.size(1)]"
      ],
      "metadata": {
        "id": "ZdnhyEnpwqVp"
      },
      "execution_count": 59,
      "outputs": []
    },
    {
      "cell_type": "code",
      "source": [
        "class MultiHeadAttention(nn.Module):\n",
        "    def __init__(self, d_model, num_heads):\n",
        "        super().__init__()\n",
        "        assert d_model % num_heads == 0, \"d_model must be divisible by num_heads\"\n",
        "        self.d_model = d_model\n",
        "        self.num_heads = num_heads\n",
        "        self.head_dim = d_model // num_heads\n",
        "        self.query_linear = nn.Linear(d_model, d_model, bias=False)\n",
        "        self.key_linear = nn.Linear(d_model, d_model, bias=False)\n",
        "        self.value_linear = nn.Linear(d_model, d_model, bias=False)\n",
        "        self.output_linear = nn.Linear(d_model, d_model)\n",
        "\n",
        "    def split_head(self, x, batch_size):\n",
        "        seq_len = x.size(1)\n",
        "        x = x.reshape(batch_size, seq_len, self.num_heads, self.head_dim)\n",
        "        return x.permute(0, 2, 1, 3)\n",
        "\n",
        "    def compute_attention(self, query, key, value, mask=None):\n",
        "        scores = torch.matmul(query, key.transpose(-2, -1)) / math.sqrt(self.head_dim)\n",
        "        if mask is not None:  # Fixed mask condition\n",
        "            scores = scores.masked_fill(mask == 0, float('-inf'))\n",
        "        attention_weights = F.softmax(scores, dim=-1)\n",
        "        return torch.matmul(attention_weights, value)\n",
        "\n",
        "    def forward(self, query, key, value, mask=None):\n",
        "        batch_size = query.size(0)\n",
        "        query = self.split_head(self.query_linear(query), batch_size)\n",
        "        key = self.split_head(self.key_linear(key), batch_size)\n",
        "        value = self.split_head(self.value_linear(value), batch_size)\n",
        "        attention_output = self.compute_attention(query, key, value, mask)\n",
        "        output = self.combine_heads(attention_output, batch_size)\n",
        "        return self.output_linear(output)\n",
        "\n",
        "    def combine_heads(self, x, batch_size):\n",
        "        x = x.permute(0, 2, 1, 3).contiguous()\n",
        "        return x.view(batch_size, -1, self.d_model)"
      ],
      "metadata": {
        "id": "CubRq0HeyeEP"
      },
      "execution_count": 60,
      "outputs": []
    },
    {
      "cell_type": "code",
      "source": [
        "class FeedForwardSubLayer(nn.Module):\n",
        "    def __init__(self, d_model, d_ff):\n",
        "        super().__init__()\n",
        "        self.fc1 = nn.Linear(d_model, d_ff)\n",
        "        self.fc2 = nn.Linear(d_ff, d_model)\n",
        "        self.relu = nn.ReLU()\n",
        "\n",
        "    def forward(self, x):\n",
        "        return self.fc2(self.relu(self.fc1(x)))"
      ],
      "metadata": {
        "id": "X--38UiP098l"
      },
      "execution_count": 61,
      "outputs": []
    },
    {
      "cell_type": "code",
      "source": [
        "class EncoderLayer(nn.Module):\n",
        "    def __init__(self, d_model, num_heads, d_ff, dropout):\n",
        "        super().__init__()\n",
        "        self.self_attention = MultiHeadAttention(d_model, num_heads)\n",
        "        self.feed_forward = FeedForwardSubLayer(d_model, d_ff)\n",
        "        self.norm1 = nn.LayerNorm(d_model)\n",
        "        self.norm2 = nn.LayerNorm(d_model)\n",
        "        self.dropout = nn.Dropout(dropout)\n",
        "\n",
        "    def forward(self, x, mask):\n",
        "        attention_output = self.self_attention(x, x, x, mask)\n",
        "        x = self.norm1(x + self.dropout(attention_output))\n",
        "        feed_forward_output = self.feed_forward(x)\n",
        "        x = self.norm2(x + self.dropout(feed_forward_output))\n",
        "        return x"
      ],
      "metadata": {
        "id": "4oK3LMVpGH5a"
      },
      "execution_count": 62,
      "outputs": []
    },
    {
      "cell_type": "code",
      "source": [
        "class TransformerEncoder(nn.Module):\n",
        "    def __init__(self, vocab_size, d_model, num_layers, num_heads, d_ff, dropout, max_seq_length):\n",
        "        super().__init__()\n",
        "        self.embedding = InputEmbedding(vocab_size, d_model)\n",
        "        self.positional_encoding = PositionalEncoding(d_model, max_seq_length)\n",
        "        self.layers = nn.ModuleList(\n",
        "            [EncoderLayer(d_model, num_heads, d_ff, dropout) for _ in range(num_layers)]\n",
        "        )\n",
        "\n",
        "    def forward(self, x, mask):\n",
        "        x = self.embedding(x)\n",
        "        x = self.positional_encoding(x)\n",
        "        for layer in self.layers:\n",
        "            x = layer(x, mask)\n",
        "        return x"
      ],
      "metadata": {
        "id": "BnNG3xmgGnpJ"
      },
      "execution_count": 63,
      "outputs": []
    },
    {
      "cell_type": "code",
      "source": [
        "class ClassifierHead(nn.Module):\n",
        "    def __init__(self, d_model, num_classes):\n",
        "        super().__init__()\n",
        "        self.fc = nn.Linear(d_model, num_classes)\n",
        "\n",
        "    def forward(self, x):\n",
        "        logits = self.fc(x)\n",
        "        return F.log_softmax(logits, dim=-1)"
      ],
      "metadata": {
        "id": "3fiCMutWHScm"
      },
      "execution_count": 64,
      "outputs": []
    },
    {
      "cell_type": "code",
      "source": [
        "class RegressionHead(nn.Module):\n",
        "    def __init__(self, d_model, output_dim):\n",
        "        super().__init__()\n",
        "        self.fc = nn.Linear(d_model, output_dim)\n",
        "\n",
        "    def forward(self, x):\n",
        "        return self.fc(x)"
      ],
      "metadata": {
        "id": "8nQ5tnjuHbFc"
      },
      "execution_count": 65,
      "outputs": []
    },
    {
      "cell_type": "code",
      "source": [
        "class DecoderLayer(nn.Module):\n",
        "    def __init__(self, d_model, num_heads, d_ff, dropout):\n",
        "        super().__init__()\n",
        "        self.self_attn = MultiHeadAttention(d_model, num_heads)\n",
        "        self.cross_attn = MultiHeadAttention(d_model, num_heads)\n",
        "        self.ff_sublayer = FeedForwardSubLayer(d_model, d_ff)\n",
        "        self.norm1 = nn.LayerNorm(d_model)\n",
        "        self.norm2 = nn.LayerNorm(d_model)\n",
        "        self.norm3 = nn.LayerNorm(d_model)\n",
        "        self.dropout = nn.Dropout(dropout)\n",
        "\n",
        "    def forward(self, x, enc_output, src_mask, tgt_mask):\n",
        "        attn_output = self.self_attn(x, x, x, tgt_mask)\n",
        "        x = self.norm1(x + self.dropout(attn_output))\n",
        "        cross_output = self.cross_attn(x, enc_output, enc_output, src_mask)\n",
        "        x = self.norm2(x + self.dropout(cross_output))\n",
        "        ff_output = self.ff_sublayer(x)\n",
        "        x = self.norm3(x + self.dropout(ff_output))\n",
        "        return x"
      ],
      "metadata": {
        "id": "Nogm6jPrHh2U"
      },
      "execution_count": 66,
      "outputs": []
    },
    {
      "cell_type": "code",
      "source": [
        "class TransformerDecoder(nn.Module):\n",
        "    def __init__(self, vocab_size, d_model, num_layers, num_heads, d_ff, dropout, max_seq_length):\n",
        "        super().__init__()\n",
        "        self.embedding = InputEmbedding(vocab_size, d_model)\n",
        "        self.positional_encoding = PositionalEncoding(d_model, max_seq_length)\n",
        "        self.layers = nn.ModuleList([DecoderLayer(d_model, num_heads, d_ff, dropout) for _ in range(num_layers)])\n",
        "        self.fc = nn.Linear(d_model, vocab_size)\n",
        "\n",
        "    def forward(self, x, enc_output, src_mask=None, tgt_mask=None):\n",
        "        x = self.embedding(x)\n",
        "        x = self.positional_encoding(x)\n",
        "        for layer in self.layers:\n",
        "            x = layer(x, enc_output, src_mask, tgt_mask)\n",
        "        x = self.fc(x)\n",
        "        return F.log_softmax(x, dim=-1)"
      ],
      "metadata": {
        "id": "rT3SIhgiHrLK"
      },
      "execution_count": 67,
      "outputs": []
    },
    {
      "cell_type": "code",
      "source": [
        "class Transformer(nn.Module):\n",
        "    def __init__(self, src_vocab_size, tgt_vocab_size, d_model=512, num_heads=8,\n",
        "                 num_encoder_layers=6, num_decoder_layers=6, d_ff=2048,\n",
        "                 dropout=0.1, max_seq_length=5000):\n",
        "        super().__init__()\n",
        "        self.encoder = TransformerEncoder(\n",
        "            src_vocab_size, d_model, num_encoder_layers, num_heads,\n",
        "            d_ff, dropout, max_seq_length\n",
        "        )\n",
        "        self.decoder = TransformerDecoder(\n",
        "            tgt_vocab_size, d_model, num_decoder_layers, num_heads,\n",
        "            d_ff, dropout, max_seq_length\n",
        "        )\n",
        "\n",
        "    def forward(self, src, tgt, src_mask=None, tgt_mask=None):\n",
        "        enc_output = self.encoder(src, src_mask)\n",
        "        output = self.decoder(tgt, enc_output, src_mask, tgt_mask)\n",
        "        return output\n",
        "\n",
        "    def generate_square_subsequent_mask(self, sz):\n",
        "        mask = (torch.triu(torch.ones(sz, sz)) == 1).transpose(0, 1)\n",
        "        mask = mask.float().masked_fill(mask == 0, float('-inf')).masked_fill(mask == 1, float(0.0))\n",
        "        return mask"
      ],
      "metadata": {
        "id": "S7LGkYHGHuv5"
      },
      "execution_count": 68,
      "outputs": []
    },
    {
      "cell_type": "code",
      "source": [
        "# Example\n",
        "def train_transformer():\n",
        "    # Device configuration\n",
        "    device = torch.device('cuda' if torch.cuda.is_available() else 'cpu')\n",
        "\n",
        "    # Hyperparameters\n",
        "    src_vocab_size = 10000\n",
        "    tgt_vocab_size = 10000\n",
        "    d_model = 512\n",
        "    num_heads = 8\n",
        "    num_encoder_layers = 6\n",
        "    num_decoder_layers = 6\n",
        "    d_ff = 2048\n",
        "    dropout = 0.1\n",
        "    max_seq_length = 100\n",
        "    batch_size = 32\n",
        "    num_epochs = 5\n",
        "\n",
        "    # Initialize model\n",
        "    model = Transformer(\n",
        "        src_vocab_size=src_vocab_size,\n",
        "        tgt_vocab_size=tgt_vocab_size,\n",
        "        d_model=d_model,\n",
        "        num_heads=num_heads,\n",
        "        num_encoder_layers=num_encoder_layers,\n",
        "        num_decoder_layers=num_decoder_layers,\n",
        "        d_ff=d_ff,\n",
        "        dropout=dropout,\n",
        "        max_seq_length=max_seq_length\n",
        "    ).to(device)\n",
        "\n",
        "    # Optimizer and loss\n",
        "    optimizer = torch.optim.Adam(model.parameters(), lr=0.0001)\n",
        "    criterion = nn.NLLLoss()\n",
        "\n",
        "    # Sample data\n",
        "    for epoch in range(num_epochs):\n",
        "        model.train()\n",
        "        total_loss = 0\n",
        "\n",
        "        # Generate batch\n",
        "        src = torch.randint(0, src_vocab_size, (batch_size, 20)).to(device)\n",
        "        tgt = torch.randint(0, tgt_vocab_size, (batch_size, 15)).to(device)\n",
        "        tgt_input = tgt[:, :-1]  # Remove last token for input\n",
        "        tgt_output = tgt[:, 1:]  # Remove first token for target\n",
        "\n",
        "        # Create masks\n",
        "        src_mask = (src != 0).unsqueeze(1).unsqueeze(2).to(device)\n",
        "        tgt_mask = model.generate_square_subsequent_mask(tgt_input.size(1)).to(device)\n",
        "\n",
        "        # Training step\n",
        "        optimizer.zero_grad()\n",
        "        output = model(src, tgt_input, src_mask, tgt_mask)\n",
        "\n",
        "        # Reshape for loss calculation\n",
        "        loss = criterion(output.view(-1, tgt_vocab_size), tgt_output.reshape(-1))\n",
        "        loss.backward()\n",
        "        optimizer.step()\n",
        "\n",
        "        total_loss += loss.item()\n",
        "\n",
        "        print(f'Epoch [{epoch+1}/{num_epochs}], Loss: {total_loss:.4f}')\n",
        "\n",
        "    # Inference example\n",
        "    model.eval()\n",
        "    with torch.no_grad():\n",
        "        src_sample = torch.randint(0, src_vocab_size, (1, 20)).to(device)\n",
        "        tgt_sample = torch.randint(0, tgt_vocab_size, (1, 1)).to(device)  # Start token\n",
        "\n",
        "        for _ in range(14):  # Generate 14 more tokens\n",
        "            tgt_mask = model.generate_square_subsequent_mask(tgt_sample.size(1)).to(device)\n",
        "            output = model(src_sample, tgt_sample, None, tgt_mask)\n",
        "            next_token = output[:, -1:].argmax(dim=-1)\n",
        "            tgt_sample = torch.cat([tgt_sample, next_token], dim=1)\n",
        "\n",
        "        print(f\"Generated sequence shape: {tgt_sample.shape}\")"
      ],
      "metadata": {
        "id": "-1bj4mU9K8Hh"
      },
      "execution_count": 69,
      "outputs": []
    },
    {
      "cell_type": "code",
      "source": [],
      "metadata": {
        "id": "MO8RULbNOaIq"
      },
      "execution_count": null,
      "outputs": []
    }
  ]
}